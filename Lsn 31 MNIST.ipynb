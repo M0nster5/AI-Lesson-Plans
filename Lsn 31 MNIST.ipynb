{
 "cells": [
  {
   "cell_type": "markdown",
   "metadata": {},
   "source": [
    "# Neural Networks Lesson 4\n",
    "\n",
    "## MNIST DATA\n",
    "\n",
    "Are you ready to feel like the coolest person alive. You are about to use your work to succesffully classify digits. You are about to be Dr. Frankenstein, meddling with the boundaries of \"God Like\" abilities. Anyways, lets do a quick recap\n",
    "\n",
    "## Recap\n",
    "\n",
    "So far we have learned the structure of a neural network and you have employed it to create something that learns what basic logic operators are off of examples. Lets say that again, you have used your CS and Math knowledge that creates something that learns. Well as you guessed, it can get a lot more complicated and while XOR, AND, and OR classification is fun, it's time to broaden your horizons.\n",
    "\n",
    "We want to teach our network to classify digits. A daunting task but lets break it down just as we did before.\n",
    "\n",
    "## The Approach\n",
    "\n",
    "This approach can be used in attacking most macahine learning problems.\n",
    "\n",
    "#### Clean Data\n",
    "\n",
    "Once you have a goal, you need cold, clean data. Most data is really messy, however there are plenty of resources online for getting started with NN's. For this lab, we need the handwriting of people writing different digits. Luckily, there are some pretty cool people out there that compiled a set of 70,000 test imges that everyone can use to test their neural networks and come up with better structures for classification.\n",
    "\n",
    "\n",
    "We have it here:\n",
    "\n",
    "http://yann.lecun.com/exdb/mnist/\n",
    "\n",
    "\n",
    "#### Inputs\n",
    "\n",
    "So continuing with the data theme,for inputs and training it will need a large list of things that it can learn from (factors) and the expected output. For this, we will start with a pretty nasty set of inputs, why not give each individual pixel to the network for prediction. Yeah maybe it will take a while, but it could be worse.\n",
    "\n"
   ]
  },
  {
   "cell_type": "code",
   "execution_count": 2,
   "metadata": {},
   "outputs": [],
   "source": [
    "from mnist import MNIST\n",
    "from math import ceil\n",
    "from numpy import *"
   ]
  },
  {
   "cell_type": "code",
   "execution_count": null,
   "metadata": {},
   "outputs": [],
   "source": []
  }
 ],
 "metadata": {
  "kernelspec": {
   "display_name": "Python 3",
   "language": "python",
   "name": "python3"
  },
  "language_info": {
   "codemirror_mode": {
    "name": "ipython",
    "version": 3
   },
   "file_extension": ".py",
   "mimetype": "text/x-python",
   "name": "python",
   "nbconvert_exporter": "python",
   "pygments_lexer": "ipython3",
   "version": "3.7.0"
  }
 },
 "nbformat": 4,
 "nbformat_minor": 2
}
